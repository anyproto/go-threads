{
 "cells": [
  {
   "cell_type": "code",
   "execution_count": 62,
   "id": "83a65471-293a-4f35-b23f-ae691369a824",
   "metadata": {},
   "outputs": [],
   "source": [
    "# Decided to try another library written in Rust instead of Pandas (maybe that was a mistake)\n",
    "import polars as pl  \n",
    "from polars.lazy import col\n",
    "\n",
    "# This gets first entry from column A filtered by value of column B\n",
    "# Probably there exists a better way\n",
    "def get_first_entry_with_filter(df, result_col, filter_col, value):\n",
    "    filtered = df.lazy().filter(col(filter_col) == value).collect()\n",
    "    \n",
    "    count = filtered.lazy().select([pl.count('*')]).collect()[0][0]\n",
    "    if count == 0:\n",
    "        return 0\n",
    "    return filtered[result_col][0]\n",
    "\n",
    "\n",
    "df = pl.read_csv(\"record_updates_vpn_correct1.csv\")\n",
    "# getting the records which appeared first\n",
    "records_first = (\n",
    "    df.sort(by_column='Timestamp')\n",
    "    .groupby('RecordId')\n",
    "    .agg([col(\"Type\").first()])\n",
    "    .groupby('Type_first')\n",
    "    .agg([col('RecordId').count()])\n",
    ")\n",
    "records_first\n",
    "first_push = get_first_entry_with_filter(records_first, 'RecordId_count', 'Type_first', 1)\n",
    "first_pubsub = get_first_entry_with_filter(records_first, 'RecordId_count', 'Type_first', 2)\n",
    "first_getrecords = get_first_entry_with_filter(records_first, 'RecordId_count', 'Type_first', 4)"
   ]
  },
  {
   "cell_type": "code",
   "execution_count": 63,
   "id": "c41b05bf-784b-42d2-b6e2-c71fc885008f",
   "metadata": {},
   "outputs": [],
   "source": [
    "import numpy as np\n",
    "# calculating timestamp difference\n",
    "records_diff_push_pubsub = (\n",
    "    df.sort(by_column='Timestamp')\n",
    "    .lazy()\n",
    "    .filter(col('Type') != 4)\n",
    "    .collect()\n",
    "    .groupby('RecordId')\n",
    "    .agg([col(\"Type\").first(), col(\"Type\").last(), (col(\"Timestamp\").last() - col(\"Timestamp\").first()) / 1000])\n",
    ")\n",
    "sorted_diff_ms = np.array(records_diff_push_pubsub['Timestamp_last'].sort())"
   ]
  },
  {
   "cell_type": "code",
   "execution_count": 64,
   "id": "d7713007-7764-4adf-a88c-8bf2652143ba",
   "metadata": {},
   "outputs": [],
   "source": [
    "# getting which records received by which method\n",
    "records_by_type = (\n",
    "    df.groupby(['RecordId', 'Type'])\n",
    "    .agg([col(\"Type\").first()])\n",
    "    .groupby('RecordId')\n",
    "    .agg([col(\"Type\").sum()])\n",
    "    .groupby('Type_sum')\n",
    "    .agg([col('RecordId').count()])\n",
    ")\n",
    "records_by_type\n",
    "only_push = get_first_entry_with_filter(records_by_type, 'RecordId_count', 'Type_sum', 1)\n",
    "only_pubsub = get_first_entry_with_filter(records_by_type, 'RecordId_count', 'Type_sum', 2)\n",
    "both_pubsub_push = get_first_entry_with_filter(records_by_type, 'RecordId_count', 'Type_sum', 3)\n",
    "only_getrecords = get_first_entry_with_filter(records_by_type, 'RecordId_count', 'Type_sum', 4)"
   ]
  },
  {
   "cell_type": "code",
   "execution_count": 65,
   "id": "e486dac4-713d-4171-9cbb-464c62847587",
   "metadata": {},
   "outputs": [],
   "source": [
    "# calculating duplicated entries\n",
    "records_duplication = (\n",
    "    df.groupby(['RecordId', 'Type'])\n",
    "    .agg([col(\"Type\").count()])\n",
    "    .groupby(['Type_count', 'Type'])\n",
    "    # getting table with type and how many times we have duplication by 2, 3 etc\n",
    "    .agg([col('Type_count').count().alias('Duplicated_count')])\n",
    "    .lazy()\n",
    "    .filter(col('Type_count') >= 2)\n",
    "    .collect()\n",
    "    .groupby('Type')\n",
    "    # summing up different duplications\n",
    "    .agg([col('Duplicated_count').sum().alias('Duplicated_count')])\n",
    ") \n",
    "records_duplication\n",
    "push_dup = get_first_entry_with_filter(records_duplication, 'Duplicated_count', 'Type', 1)\n",
    "pubsub_dup = get_first_entry_with_filter(records_duplication, 'Duplicated_count', 'Type', 2)\n",
    "getrecords_dup = get_first_entry_with_filter(records_duplication, 'Duplicated_count', 'Type', 4)"
   ]
  },
  {
   "cell_type": "code",
   "execution_count": 66,
   "id": "984b58ee-e8a2-4831-a540-414cb77817d5",
   "metadata": {},
   "outputs": [
    {
     "data": {
      "image/png": "[encoded data removed]",
      "text/plain": [
       "<Figure size 432x288 with 1 Axes>"
      ]
     },
     "metadata": {
      "needs_background": "light"
     },
     "output_type": "display_data"
    },
    {
     "data": {
      "image/png": "[encoded data removed]",
      "text/plain": [
       "<Figure size 432x288 with 1 Axes>"
      ]
     },
     "metadata": {
      "needs_background": "light"
     },
     "output_type": "display_data"
    },
    {
     "data": {
      "image/png": "[encoded data removed]",
      "text/plain": [
       "<Figure size 432x288 with 1 Axes>"
      ]
     },
     "metadata": {
      "needs_background": "light"
     },
     "output_type": "display_data"
    }
   ],
   "source": [
    "import matplotlib.pyplot as plt\n",
    "\n",
    "def draw_hist(labels, values, title):\n",
    "    plt.title(title)\n",
    "    plt.bar(labels, values, align='center')\n",
    "    plt.show()\n",
    "    \n",
    "draw_hist([\"only push\", \"only pubsub\", \"both pubsub push\", \"get records\"], [only_push, only_pubsub, both_pubsub_push, only_getrecords], 'Messages by type')\n",
    "draw_hist([\"first push\", \"first pubsub\", \"first getrecords\"], [first_push, first_pubsub, first_getrecords], 'Messages by first received')\n",
    "draw_hist([\"push dup\", \"pubsub dup\", \"getrecords dup\"], [push_dup, pubsub_dup, getrecords_dup], 'Messages by duplication')"
   ]
  },
  {
   "cell_type": "code",
   "execution_count": 67,
   "id": "2d22aae2-22b7-47c6-bcf9-c4ec1051423e",
   "metadata": {},
   "outputs": [
    {
     "data": {
      "text/plain": [
       "(array([235.,  12.,  20.,   3.,   5.,   2.,   1.,   0.,   0.,   0.,   0.,\n",
       "          0.,   0.,   0.,   0.,   0.,   0.,   0.,   0.,   0.,   0.,   0.,\n",
       "          0.,   0.,   0.,   0.,   0.,   0.,   0.,   0.,   0.,   0.,   0.,\n",
       "          0.,   0.,   0.,   0.,   0.,   0.,   0.,   0.,   0.,   0.,   0.,\n",
       "          0.,   0.,   0.,   1.,   0.,   1.]),\n",
       " array([     0.  ,   2567.74,   5135.48,   7703.22,  10270.96,  12838.7 ,\n",
       "         15406.44,  17974.18,  20541.92,  23109.66,  25677.4 ,  28245.14,\n",
       "         30812.88,  33380.62,  35948.36,  38516.1 ,  41083.84,  43651.58,\n",
       "         46219.32,  48787.06,  51354.8 ,  53922.54,  56490.28,  59058.02,\n",
       "         61625.76,  64193.5 ,  66761.24,  69328.98,  71896.72,  74464.46,\n",
       "         77032.2 ,  79599.94,  82167.68,  84735.42,  87303.16,  89870.9 ,\n",
       "         92438.64,  95006.38,  97574.12, 100141.86, 102709.6 , 105277.34,\n",
       "        107845.08, 110412.82, 112980.56, 115548.3 , 118116.04, 120683.78,\n",
       "        123251.52, 125819.26, 128387.  ]),\n",
       " <BarContainer object of 50 artists>)"
      ]
     },
     "execution_count": 67,
     "metadata": {},
     "output_type": "execute_result"
    },
    {
     "data": {
      "image/png": "[encoded data removed]",
      "text/plain": [
       "<Figure size 432x288 with 1 Axes>"
      ]
     },
     "metadata": {
      "needs_background": "light"
     },
     "output_type": "display_data"
    }
   ],
   "source": [
    "plt.title('Difference between pubsub and push in microseconds')\n",
    "plt.hist(sorted_diff_ms, bins = 50)"
   ]
  }
 ],
 "metadata": {
  "kernelspec": {
   "display_name": "Python 3",
   "language": "python",
   "name": "python3"
  },
  "language_info": {
   "codemirror_mode": {
    "name": "ipython",
    "version": 3
   },
   "file_extension": ".py",
   "mimetype": "text/x-python",
   "name": "python",
   "nbconvert_exporter": "python",
   "pygments_lexer": "ipython3",
   "version": "3.8.3"
  }
 },
 "nbformat": 4,
 "nbformat_minor": 5
}
