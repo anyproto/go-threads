{
 "cells": [
  {
   "cell_type": "code",
   "execution_count": 1,
   "id": "83a65471-293a-4f35-b23f-ae691369a824",
   "metadata": {},
   "outputs": [],
   "source": [
    "# Decided to try another library written in Rust instead of Pandas (maybe that was a mistake)\n",
    "import polars as pl  \n",
    "from polars.lazy import col\n",
    "\n",
    "# This gets first entry from column A filtered by value of column B\n",
    "# Probably there exists a better way\n",
    "def get_first_entry_with_filter(df, result_col, filter_col, value):\n",
    "    filtered = df.lazy().filter(col(filter_col) == value).collect()\n",
    "    \n",
    "    count = filtered.lazy().select([pl.count('*')]).collect()[0][0]\n",
    "    if count == 0:\n",
    "        return 0\n",
    "    return filtered[result_col][0]\n",
    "\n",
    "\n",
    "df = pl.read_csv(\"record_updates_vpn_no_pull.csv\")\n",
    "# getting the records which appeared first\n",
    "records_first = (\n",
    "    df.sort(by_column='Timestamp')\n",
    "    .groupby('RecordId')\n",
    "    .agg([col(\"Type\").first()])\n",
    "    .groupby('Type_first')\n",
    "    .agg([col('RecordId').count()])\n",
    ")\n",
    "records_first\n",
    "first_push = get_first_entry_with_filter(records_first, 'RecordId_count', 'Type_first', 1)\n",
    "first_pubsub = get_first_entry_with_filter(records_first, 'RecordId_count', 'Type_first', 2)\n",
    "first_getrecords = get_first_entry_with_filter(records_first, 'RecordId_count', 'Type_first', 4)"
   ]
  },
  {
   "cell_type": "code",
   "execution_count": 2,
   "id": "c41b05bf-784b-42d2-b6e2-c71fc885008f",
   "metadata": {},
   "outputs": [],
   "source": [
    "import numpy as np\n",
    "# calculating timestamp difference\n",
    "records_diff_push_pubsub = (\n",
    "    df.sort(by_column='Timestamp')\n",
    "    .lazy()\n",
    "    .filter(col('Type') != 4)\n",
    "    .collect()\n",
    "    .groupby('RecordId')\n",
    "    .agg([col(\"Type\").first(), col(\"Type\").last(), (col(\"Timestamp\").last() - col(\"Timestamp\").first()) / 1000])\n",
    ")\n",
    "sorted_diff_ms = np.array(records_diff_push_pubsub['Timestamp_last'].sort())"
   ]
  },
  {
   "cell_type": "code",
   "execution_count": 3,
   "id": "d7713007-7764-4adf-a88c-8bf2652143ba",
   "metadata": {},
   "outputs": [
    {
     "data": {
      "text/html": [
       "<div>\n",
       "<style scoped>\n",
       "    .dataframe tbody tr th:only-of-type {\n",
       "        vertical-align: middle;\n",
       "    }\n",
       "\n",
       "    .dataframe tbody tr th {\n",
       "        vertical-align: top;\n",
       "    }\n",
       "\n",
       "    .dataframe thead th {\n",
       "        text-align: right;\n",
       "    }\n",
       "</style>\n",
       "<table border=\"1 \"class=\"dataframe \">\n",
       "<thead>\n",
       "<tr>\n",
       "<th>\n",
       "Type_sum\n",
       "</th>\n",
       "<th>\n",
       "RecordId_count\n",
       "</th>\n",
       "</tr>\n",
       "<tr>\n",
       "<td>\n",
       "i64\n",
       "</td>\n",
       "<td>\n",
       "u32\n",
       "</td>\n",
       "</tr>\n",
       "</thead>\n",
       "<tbody>\n",
       "<tr>\n",
       "<td>\n",
       "3\n",
       "</td>\n",
       "<td>\n",
       "829\n",
       "</td>\n",
       "</tr>\n",
       "<tr>\n",
       "<td>\n",
       "2\n",
       "</td>\n",
       "<td>\n",
       "35\n",
       "</td>\n",
       "</tr>\n",
       "</tbody>\n",
       "</table>\n",
       "</div>"
      ],
      "text/plain": [
       "shape: (2, 2)\n",
       "╭──────────┬────────────────╮\n",
       "│ Type_sum ┆ RecordId_count │\n",
       "│ ---      ┆ ---            │\n",
       "│ i64      ┆ u32            │\n",
       "╞══════════╪════════════════╡\n",
       "│ 3        ┆ 829            │\n",
       "├╌╌╌╌╌╌╌╌╌╌┼╌╌╌╌╌╌╌╌╌╌╌╌╌╌╌╌┤\n",
       "│ 2        ┆ 35             │\n",
       "╰──────────┴────────────────╯"
      ]
     },
     "execution_count": 3,
     "metadata": {},
     "output_type": "execute_result"
    }
   ],
   "source": [
    "# getting which records received by which method\n",
    "records_by_type = (\n",
    "    df.groupby(['RecordId', 'Type'])\n",
    "    .agg([col(\"Type\").first()])\n",
    "    .groupby('RecordId')\n",
    "    .agg([col(\"Type\").sum()])\n",
    "    .groupby('Type_sum')\n",
    "    .agg([col('RecordId').count()])\n",
    ")\n",
    "only_push = get_first_entry_with_filter(records_by_type, 'RecordId_count', 'Type_sum', 1)\n",
    "only_pubsub = get_first_entry_with_filter(records_by_type, 'RecordId_count', 'Type_sum', 2)\n",
    "both_pubsub_push = get_first_entry_with_filter(records_by_type, 'RecordId_count', 'Type_sum', 3)\n",
    "only_getrecords = get_first_entry_with_filter(records_by_type, 'RecordId_count', 'Type_sum', 4)\n",
    "records_by_type"
   ]
  },
  {
   "cell_type": "code",
   "execution_count": 4,
   "id": "e486dac4-713d-4171-9cbb-464c62847587",
   "metadata": {},
   "outputs": [],
   "source": [
    "# calculating duplicated entries\n",
    "records_duplication = (\n",
    "    df.groupby(['RecordId', 'Type'])\n",
    "    .agg([col(\"Type\").count()])\n",
    "    .groupby(['Type_count', 'Type'])\n",
    "    # getting table with type and how many times we have duplication by 2, 3 etc\n",
    "    .agg([col('Type_count').count().alias('Duplicated_count')])\n",
    "    .lazy()\n",
    "    .filter(col('Type_count') >= 2)\n",
    "    .collect()\n",
    "    .groupby('Type')\n",
    "    # summing up different duplications\n",
    "    .agg([col('Duplicated_count').sum().alias('Duplicated_count')])\n",
    ") \n",
    "records_duplication\n",
    "push_dup = get_first_entry_with_filter(records_duplication, 'Duplicated_count', 'Type', 1)\n",
    "pubsub_dup = get_first_entry_with_filter(records_duplication, 'Duplicated_count', 'Type', 2)\n",
    "getrecords_dup = get_first_entry_with_filter(records_duplication, 'Duplicated_count', 'Type', 4)"
   ]
  },
  {
   "cell_type": "code",
   "execution_count": 5,
   "id": "984b58ee-e8a2-4831-a540-414cb77817d5",
   "metadata": {},
   "outputs": [
    {
     "data": {
      "image/png": "[encoded data removed]",
      "text/plain": [
       "<Figure size 432x288 with 1 Axes>"
      ]
     },
     "metadata": {
      "needs_background": "light"
     },
     "output_type": "display_data"
    },
    {
     "data": {
      "image/png": "[encoded data removed]",
      "text/plain": [
       "<Figure size 432x288 with 1 Axes>"
      ]
     },
     "metadata": {
      "needs_background": "light"
     },
     "output_type": "display_data"
    },
    {
     "data": {
      "image/png": "[encoded data removed]",
      "text/plain": [
       "<Figure size 432x288 with 1 Axes>"
      ]
     },
     "metadata": {
      "needs_background": "light"
     },
     "output_type": "display_data"
    }
   ],
   "source": [
    "import matplotlib.pyplot as plt\n",
    "\n",
    "def draw_hist(labels, values, title):\n",
    "    plt.title(title)\n",
    "    plt.bar(labels, values, align='center')\n",
    "    plt.show()\n",
    "    \n",
    "draw_hist([\"only push\", \"only pubsub\", \"both pubsub push\", \"get records\"], [only_push, only_pubsub, both_pubsub_push, only_getrecords], 'Messages by type')\n",
    "draw_hist([\"first push\", \"first pubsub\", \"first getrecords\"], [first_push, first_pubsub, first_getrecords], 'Messages by first received')\n",
    "draw_hist([\"push dup\", \"pubsub dup\", \"getrecords dup\"], [push_dup, pubsub_dup, getrecords_dup], 'Messages by duplication')"
   ]
  },
  {
   "cell_type": "code",
   "execution_count": 6,
   "id": "2d22aae2-22b7-47c6-bcf9-c4ec1051423e",
   "metadata": {},
   "outputs": [
    {
     "data": {
      "text/plain": [
       "(array([670.,  30.,  21.,  15.,  15.,  15.,   8.,   6.,   7.,   7.,  13.,\n",
       "          6.,   7.,   5.,   2.,   6.,   5.,   4.,   1.,   2.,   1.,   1.,\n",
       "          0.,   1.,   4.,   1.,   1.,   0.,   2.,   0.,   1.,   1.,   0.,\n",
       "          0.,   1.,   1.,   1.,   0.,   0.,   1.,   0.,   0.,   0.,   1.,\n",
       "          0.,   0.,   0.,   0.,   0.,   1.]),\n",
       " array([   0.  ,  187.58,  375.16,  562.74,  750.32,  937.9 , 1125.48,\n",
       "        1313.06, 1500.64, 1688.22, 1875.8 , 2063.38, 2250.96, 2438.54,\n",
       "        2626.12, 2813.7 , 3001.28, 3188.86, 3376.44, 3564.02, 3751.6 ,\n",
       "        3939.18, 4126.76, 4314.34, 4501.92, 4689.5 , 4877.08, 5064.66,\n",
       "        5252.24, 5439.82, 5627.4 , 5814.98, 6002.56, 6190.14, 6377.72,\n",
       "        6565.3 , 6752.88, 6940.46, 7128.04, 7315.62, 7503.2 , 7690.78,\n",
       "        7878.36, 8065.94, 8253.52, 8441.1 , 8628.68, 8816.26, 9003.84,\n",
       "        9191.42, 9379.  ]),\n",
       " <BarContainer object of 50 artists>)"
      ]
     },
     "execution_count": 6,
     "metadata": {},
     "output_type": "execute_result"
    },
    {
     "data": {
      "image/png": "[encoded data removed]",
      "text/plain": [
       "<Figure size 432x288 with 1 Axes>"
      ]
     },
     "metadata": {
      "needs_background": "light"
     },
     "output_type": "display_data"
    }
   ],
   "source": [
    "plt.title('Difference between pubsub and push in microseconds')\n",
    "plt.hist(sorted_diff_ms, bins = 50)"
   ]
  },
  {
   "cell_type": "code",
   "execution_count": null,
   "id": "8f6e3e05-3d29-4cee-bfdd-7940f3bcc206",
   "metadata": {},
   "outputs": [],
   "source": []
  }
 ],
 "metadata": {
  "kernelspec": {
   "display_name": "Python 3",
   "language": "python",
   "name": "python3"
  },
  "language_info": {
   "codemirror_mode": {
    "name": "ipython",
    "version": 3
   },
   "file_extension": ".py",
   "mimetype": "text/x-python",
   "name": "python",
   "nbconvert_exporter": "python",
   "pygments_lexer": "ipython3",
   "version": "3.8.3"
  }
 },
 "nbformat": 4,
 "nbformat_minor": 5
}
